{
 "cells": [
  {
   "cell_type": "code",
   "execution_count": null,
   "metadata": {},
   "outputs": [],
   "source": [
    "import imageio as iio\n",
    "import matplotlib.pyplot as plt\n",
    "from mpl_toolkits.mplot3d.art3d import Poly3DCollection\n",
    "import numpy as np\n",
    "from pathlib import Path\n",
    "import segment\n",
    "from scipy import ndimage as ndi\n",
    "from skimage import color, feature, filters, morphology, measure, segmentation, util\n",
    "from stl import mesh\n",
    "import sys\n",
    "import yaml\n",
    "%load_ext autoreload\n",
    "%autoreload 2"
   ]
  },
  {
   "cell_type": "markdown",
   "metadata": {},
   "source": [
    "## Load in Images"
   ]
  },
  {
   "cell_type": "code",
   "execution_count": null,
   "metadata": {},
   "outputs": [],
   "source": [
    "# Read YAML input file\n",
    "yaml_file = Path(r'C:\\Users\\gusb\\Research\\PSAAP\\segmentflow-input-gus.yml')\n",
    "stream = open(yaml_file, 'r')\n",
    "UI = yaml.load(stream,Loader=yaml.FullLoader)   # User Input\n",
    "stream.close()\n",
    "# Process User Input\n",
    "ui_ct_img_dir           = UI['Files']['CT Scan Dir']\n",
    "ui_stl_dir_location     = UI['Files']['STL Dir']\n",
    "ui_output_filename_base = UI['Files']['STL Prefix']\n",
    "ui_stl_overwrite        = UI['Files']['Overwrite Existing STL Files']\n",
    "ui_single_particle_iso  = UI['Files']['Particle ID']\n",
    "ui_suppress_save_msg    = UI['Files']['Suppress Save Messages']\n",
    "ui_file_suffix          = UI['Load']['File Suffix']\n",
    "ui_slice_crop           = UI['Load']['Slice Crop']\n",
    "ui_row_crop             = UI['Load']['Row Crop']             \n",
    "ui_col_crop             = UI['Load']['Col Crop']\n",
    "ui_use_median_filter    = UI['Preprocess']['Apply Median Filter']\n",
    "ui_rescale_range        = UI['Preprocess']['Rescale Intensity Range']\n",
    "ui_n_otsu_classes       = UI['Binarize']['Number of Otsu Classes']\n",
    "ui_n_selected_classes   = UI['Binarize']['Number of Classes to Select']\n",
    "ui_use_int_dist_map     = UI['Segment']['Use Integer Distance Map']\n",
    "ui_min_peak_distance    = UI['Segment']['Min Peak Distance']\n",
    "ui_exclude_borders      = UI['Segment']['Exclude Border Particles']\n",
    "ui_erode_particles      = UI['STL']['Erode Particles']    \n",
    "ui_voxel_step_size      = UI['STL']['Marching Cubes Voxel Step Size']    \n",
    "ui_spatial_res          = UI['STL']['Pixel-to-Length Ratio']\n",
    "ui_show_segment_fig     = UI['Plot']['Show Segmentation Figure']\n",
    "ui_n_imgs               = UI['Plot']['Number of Images']\n",
    "ui_plot_maxima          = UI['Plot']['Plot Maxima']\n",
    "ui_show_label_fig       = UI['Plot']['Show Particle Labels Figure']\n",
    "ui_label_idx            = UI['Plot']['Particle Label Image Index']\n",
    "ui_show_stl_fig         = UI['Plot']['Show Random STL Figure']\n",
    "# Load images\n",
    "print('Loading images...')\n",
    "imgs = segment.load_images(\n",
    "    ui_ct_img_dir,\n",
    "    slice_crop=ui_slice_crop,\n",
    "    row_crop=ui_row_crop,\n",
    "    col_crop=ui_col_crop,\n",
    "    convert_to_float=True,\n",
    "    file_suffix=ui_file_suffix\n",
    ")\n",
    "print('--> Images loaded as 3D array: ', imgs.shape)\n",
    "print('--> Size of array (GB): ', imgs.nbytes / 1E9)\n",
    "# Plot images\n",
    "fig, axes = segment.plot_imgs(imgs, n_imgs=4)\n",
    "plt.show()"
   ]
  },
  {
   "cell_type": "markdown",
   "metadata": {},
   "source": [
    "## Add preprocessing step"
   ]
  },
  {
   "cell_type": "markdown",
   "metadata": {},
   "source": [
    "### Median filter followed by intensity rescale"
   ]
  },
  {
   "cell_type": "code",
   "execution_count": null,
   "metadata": {},
   "outputs": [],
   "source": [
    "print('Preprocessing images...')\n",
    "imgs_pre = segment.preprocess(\n",
    "    imgs, median_filter=True, rescale_intensity_range=ui_rescale_range\n",
    ")\n",
    "print('--> Preprocessing complete')\n",
    "print('--> Size of array (GB): ', imgs_pre.nbytes / 1E9)\n",
    "# Plot preprocessed images\n",
    "fig, axes = segment.plot_imgs(imgs_pre, n_imgs=4)\n",
    "plt.show()"
   ]
  },
  {
   "cell_type": "code",
   "execution_count": null,
   "metadata": {},
   "outputs": [],
   "source": [
    "print('Binarizing images...')\n",
    "# Borders must be excluded after seg. to avoid exclusion of connected regions\n",
    "imgs_binarized, thresh_vals = segment.binarize_multiotsu(\n",
    "    imgs_pre, n_otsu_classes=2, exclude_borders=False, \n",
    ")\n",
    "print('--> Binarization complete')\n",
    "print('--> Size of array (GB): ', imgs_binarized.nbytes / 1E9)\n",
    "# Plot binarized images\n",
    "fig, axes = segment.plot_imgs(imgs_binarized, n_imgs=4)\n",
    "plt.show()"
   ]
  },
  {
   "cell_type": "markdown",
   "metadata": {},
   "source": [
    "## Segment the Images"
   ]
  },
  {
   "cell_type": "code",
   "execution_count": null,
   "metadata": {},
   "outputs": [],
   "source": [
    "print('Segmenting images...')\n",
    "segment_dict = segment.watershed_segment(\n",
    "    imgs_binarized, min_peak_distance=ui_min_peak_distance, \n",
    "    use_int_dist_map=ui_use_int_dist_map, return_dict=True\n",
    ")\n",
    "print('--> Segmentation complete')"
   ]
  },
  {
   "cell_type": "code",
   "execution_count": null,
   "metadata": {},
   "outputs": [],
   "source": [
    "# sys.getsizeof() doesn't represent nested objects; need to add manually\n",
    "print('--> Size of segmentation results (GB):')\n",
    "dict_size = sys.getsizeof(segment_dict)\n",
    "for key, val in segment_dict.items():\n",
    "    print(f'----> {key}: {sys.getsizeof(val) / 1E9}')"
   ]
  },
  {
   "cell_type": "code",
   "execution_count": null,
   "metadata": {},
   "outputs": [],
   "source": [
    "fig, axes = segment.plot_segment_steps(imgs, imgs_pre, imgs_binarized, segment_dict)\n",
    "plt.show()"
   ]
  },
  {
   "cell_type": "code",
   "execution_count": null,
   "metadata": {},
   "outputs": [],
   "source": [
    "# How Many Particles Were Segmented?\n",
    "n_particles = np.max(segment_dict['integer-labels'])\n",
    "n_particles_digits = len(str(n_particles))\n",
    "print('--> Total number of particles segmented: ' + str(n_particles))"
   ]
  },
  {
   "cell_type": "markdown",
   "metadata": {},
   "source": [
    "### Exclude border particles and iterate through regions"
   ]
  },
  {
   "cell_type": "code",
   "execution_count": null,
   "metadata": {},
   "outputs": [],
   "source": [
    "if ui_exclude_borders:\n",
    "    # How Many Particles Were Segmented?\n",
    "    n_particles = np.max(segment_dict['integer-labels'])\n",
    "    n_particles_digits = len(str(n_particles))\n",
    "    print('--> Number of particles before border exclusion: ', str(n_particles))\n",
    "    print()\n",
    "    print('Excluding border particles...')\n",
    "    segment_dict['integer-labels'] = segmentation.clear_border(\n",
    "        segment_dict['integer-labels']\n",
    "    )\n",
    "regions = measure.regionprops(segment_dict['integer-labels'])\n",
    "n_particles_noborder = len(regions)\n",
    "print('--> Number of particles: ', str(n_particles_noborder))\n",
    "fig, axes = segment.plot_segment_steps(imgs, imgs_pre, imgs_binarized, segment_dict)\n",
    "plt.show()"
   ]
  },
  {
   "cell_type": "code",
   "execution_count": null,
   "metadata": {},
   "outputs": [],
   "source": [
    "print()\n",
    "print('Generating surface meshes...')\n",
    "n_saved = segment.save_regions_as_stl_files(\n",
    "    imgs,\n",
    "    regions,\n",
    "    ui_stl_dir_location,\n",
    "    ui_output_filename_base,\n",
    "    n_particles_digits,\n",
    "    suppress_save_msg=ui_suppress_save_msg,\n",
    "    slice_crop=ui_slice_crop,\n",
    "    row_crop=ui_row_crop,\n",
    "    col_crop=ui_col_crop,\n",
    "    spatial_res=ui_spatial_res,\n",
    "    voxel_step_size=ui_voxel_step_size,\n",
    "    erode_particles=ui_erode_particles,\n",
    "    stl_overwrite=ui_stl_overwrite,\n",
    "    return_n_saved=True,\n",
    ")\n",
    "print(f'--> {n_saved} STL file(s) written!')"
   ]
  }
 ],
 "metadata": {
  "kernelspec": {
   "display_name": "Python 3.9.5 64-bit (system)",
   "language": "python",
   "name": "python3"
  },
  "language_info": {
   "codemirror_mode": {
    "name": "ipython",
    "version": 3
   },
   "file_extension": ".py",
   "mimetype": "text/x-python",
   "name": "python",
   "nbconvert_exporter": "python",
   "pygments_lexer": "ipython3",
   "version": "3.9.5"
  },
  "orig_nbformat": 4,
  "vscode": {
   "interpreter": {
    "hash": "3c41d41f3d36fd385a14502755cac50397031560266a576f36333e8ea386c7f1"
   }
  }
 },
 "nbformat": 4,
 "nbformat_minor": 2
}
